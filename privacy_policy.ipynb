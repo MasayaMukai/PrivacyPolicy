{
 "cells": [
  {
   "cell_type": "markdown",
   "id": "81453524",
   "metadata": {},
   "source": [
    "**Privacy Policy**\n",
    "\n",
    "This page is used to inform visitors regarding our policies with the collection, use, and disclosure of Personal Information if anyone decided to use our Service.\n",
    "\n",
    "If you choose to use our Service, then you agree to the collection and use of information in relation to this policy. The Personal Information that We collect is used for providing and improving the Service. We will not use or share your information with anyone except as described in this Privacy Policy.\n",
    "\n",
    "The terms used in this Privacy Policy have the same meanings as in our Terms and Conditions, which are accessible at My App unless otherwise defined in this Privacy Policy.\n",
    "\n",
    "\n",
    "**Log Data**\n",
    "\n",
    "We want to inform you that whenever you use our Service, in a case of an error in the app We collect data and information (through third-party products) on your phone called Log Data. This Log Data may include information such as your device Internet Protocol (“IP”) address, device name, operating system version, the configuration of the app when utilizing our Service, the time and date of your use of the Service, and other statistics.\n",
    "\n",
    "**Cookies**\n",
    "\n",
    "Cookies are files with a small amount of data that are commonly used as anonymous unique identifiers. These are sent to your browser from the websites that you visit and are stored on your device's internal memory.\n",
    "\n",
    "This Service does not use these “cookies” explicitly. However, the app may use third-party code and libraries that use “cookies” to collect information and improve their services. You have the option to either accept or refuse these cookies and know when a cookie is being sent to your device. If you choose to refuse our cookies, you may not be able to use some portions of this Service.\n",
    "\n",
    "\n",
    "**Security**\n",
    "\n",
    "We value your trust in providing us your Personal Information, thus we are striving to use commercially acceptable means of protecting it. But remember that no method of transmission over the internet, or method of electronic storage is 100% secure and reliable, and We cannot guarantee its absolute security.\n",
    "\n",
    "\n",
    "**Children’s Privacy**\n",
    "\n",
    "The app does use third-party services that may collect information used to identify you.\n",
    "\n",
    "**Changes to This Privacy Policy**\n",
    "\n",
    "We may update our Privacy Policy from time to time. Thus, you are advised to review this page periodically for any changes. We will notify you of any changes by posting the new Privacy Policy on this page.\n",
    "\n",
    "This policy is effective as of 2023-07-14\n",
    "\n",
    "**Contact Us**\n",
    "\n",
    "If you have any questions or suggestions about our Privacy Policy, do not hesitate to contact us at jiangyexiangjing90@gmail.com."
   ]
  }
 ],
 "metadata": {
  "kernelspec": {
   "display_name": "Python 3 (ipykernel)",
   "language": "python",
   "name": "python3"
  },
  "language_info": {
   "codemirror_mode": {
    "name": "ipython",
    "version": 3
   },
   "file_extension": ".py",
   "mimetype": "text/x-python",
   "name": "python",
   "nbconvert_exporter": "python",
   "pygments_lexer": "ipython3",
   "version": "3.9.12"
  }
 },
 "nbformat": 4,
 "nbformat_minor": 5
}
